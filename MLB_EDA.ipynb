{
 "cells": [
  {
   "cell_type": "code",
   "execution_count": 817,
   "id": "49bbbd77",
   "metadata": {},
   "outputs": [],
   "source": [
    "import pandas as pd\n",
    "import numpy as np\n",
    "import seaborn as sns\n",
    "import matplotlib.pyplot as plt\n",
    "import requests\n",
    "from bs4 import BeautifulSoup\n",
    "from __future__ import print_function\n",
    "\n",
    "\n",
    "import datetime\n",
    "#imports"
   ]
  },
  {
   "cell_type": "code",
   "execution_count": 818,
   "id": "710e1bf8",
   "metadata": {},
   "outputs": [],
   "source": [
    "batters_df = pd.read_csv('../data/individual_batting_stats.csv')\n",
    "pitchers_df = pd.read_csv('../data/individual_pitching_stats.csv')\n",
    "misc_batters = pd.read_csv('../data/batters_teams.csv')\n",
    "misc_pitchers = pd.read_csv('../data/pitchers_teams.csv')"
   ]
  },
  {
   "cell_type": "code",
   "execution_count": 819,
   "id": "a37d7952",
   "metadata": {},
   "outputs": [],
   "source": [
    "bat_xbadiff = batters_df[['last_name', 'first_name', 'xbadiff','batting_avg', 'xba']]\n",
    "#Make a table with just the xBA difference"
   ]
  },
  {
   "cell_type": "code",
   "execution_count": 820,
   "id": "a3b4a534",
   "metadata": {},
   "outputs": [],
   "source": [
    "pitch_xbadiff = pitchers_df[['last_name', 'first_name', 'xbadiff', 'batting_avg', 'xba']]\n",
    "# pitch_xbadiff.sort_values('xba', ascending=False)"
   ]
  },
  {
   "cell_type": "markdown",
   "id": "420cb1d7",
   "metadata": {},
   "source": [
    "# Probable Pitchers"
   ]
  },
  {
   "cell_type": "code",
   "execution_count": 821,
   "id": "00867607",
   "metadata": {},
   "outputs": [],
   "source": [
    "url = 'https://www.mlb.com/probable-pitchers/2022-04-29'\n",
    "#URL of where I will get the pitchers' names"
   ]
  },
  {
   "cell_type": "code",
   "execution_count": 822,
   "id": "a5d32c0d",
   "metadata": {},
   "outputs": [],
   "source": [
    "res = requests.get(url)\n",
    "soup = BeautifulSoup(res.content)\n",
    "#Making request to the site and storing it in soup"
   ]
  },
  {
   "cell_type": "code",
   "execution_count": 823,
   "id": "452bfa8f",
   "metadata": {},
   "outputs": [],
   "source": [
    "pitchers = soup.find_all('a', {'class': 'probable-pitchers__pitcher-name-link'})\n",
    "probable_pitchers = []\n",
    "for i in pitchers:\n",
    "    probable_pitchers.append(str(i))\n",
    "#Finding all of the pitchers' names within that <a> tag\n",
    "#Using for loop to convert the beautiful soup elements in the list to strings so I can get only the pitcher's name from there"
   ]
  },
  {
   "cell_type": "code",
   "execution_count": 824,
   "id": "b305f31c",
   "metadata": {},
   "outputs": [
    {
     "data": {
      "text/plain": [
       "'<a class=\"probable-pitchers__pitcher-name-link\" href=\"/player/yu-darvish-506433\">Yu Darvish</a>'"
      ]
     },
     "execution_count": 824,
     "metadata": {},
     "output_type": "execute_result"
    }
   ],
   "source": [
    "probable_pitchers[0]"
   ]
  },
  {
   "cell_type": "code",
   "execution_count": 825,
   "id": "87aad3c8",
   "metadata": {},
   "outputs": [],
   "source": [
    "probable_pitchers = [i.split('\">')[1] for i in probable_pitchers] \n",
    "#Getting only the pitchers' names"
   ]
  },
  {
   "cell_type": "code",
   "execution_count": 826,
   "id": "f11798ae",
   "metadata": {},
   "outputs": [],
   "source": [
    "probable_pitchers = [i.split('</a')[0] for i in probable_pitchers] \n",
    "#Getting only the pitchers' names part 2"
   ]
  },
  {
   "cell_type": "code",
   "execution_count": 827,
   "id": "0814a2d3",
   "metadata": {},
   "outputs": [
    {
     "data": {
      "text/plain": [
       "'Yu Darvish'"
      ]
     },
     "execution_count": 827,
     "metadata": {},
     "output_type": "execute_result"
    }
   ],
   "source": [
    "probable_pitchers[0]"
   ]
  },
  {
   "cell_type": "code",
   "execution_count": 828,
   "id": "98fbe40f",
   "metadata": {},
   "outputs": [],
   "source": [
    "probable_pitchers = [i.split() for i in probable_pitchers]\n",
    "#Splitting name into first and last name columns"
   ]
  },
  {
   "cell_type": "code",
   "execution_count": 829,
   "id": "28b3ba52",
   "metadata": {},
   "outputs": [],
   "source": [
    "df_probable_pitchers = pd.DataFrame(probable_pitchers)\n",
    "#Setting list as Pandas DF "
   ]
  },
  {
   "cell_type": "code",
   "execution_count": 830,
   "id": "aa740186",
   "metadata": {},
   "outputs": [],
   "source": [
    "df_probable_pitchers = df_probable_pitchers.rename(columns={0: \"first_name\", 1: \"last_name\"})\n",
    "#Renaming column"
   ]
  },
  {
   "cell_type": "markdown",
   "id": "1b2a3fd1",
   "metadata": {},
   "source": [
    "# Get Pitchers' Teams"
   ]
  },
  {
   "cell_type": "code",
   "execution_count": 831,
   "id": "0215d3b5",
   "metadata": {},
   "outputs": [],
   "source": [
    "misc_pitchers = misc_pitchers[['Player', 'Team']]\n",
    "#All we need from this is their names and the team, because we will merge it with the other df to get the name on there"
   ]
  },
  {
   "cell_type": "code",
   "execution_count": 832,
   "id": "0c788a00",
   "metadata": {},
   "outputs": [],
   "source": [
    "misc_pitchers[['first_name', 'last_name']] = misc_pitchers['Player'].str.split(' ', 1, expand=True)\n",
    "#Separating 'Player' column into two columns for first and last to match probable_pitchers df"
   ]
  },
  {
   "cell_type": "code",
   "execution_count": 833,
   "id": "d0ccb159",
   "metadata": {},
   "outputs": [],
   "source": [
    "misc_pitchers = misc_pitchers.drop(columns='Player')\n",
    "#We don't need this full name column anymore"
   ]
  },
  {
   "cell_type": "code",
   "execution_count": 834,
   "id": "1666b6fa",
   "metadata": {},
   "outputs": [],
   "source": [
    "misc_pitchers = misc_pitchers[['last_name', 'first_name', 'Team']]\n",
    "#reordering columns"
   ]
  },
  {
   "cell_type": "markdown",
   "id": "23401b7d",
   "metadata": {},
   "source": [
    "# Get Batters' Teams"
   ]
  },
  {
   "cell_type": "code",
   "execution_count": 835,
   "id": "fe4e21c4",
   "metadata": {},
   "outputs": [],
   "source": [
    "misc_batters = misc_batters[['Player', 'Team']]\n",
    "#All we need from this is their names and the team, because we will merge it with the other df to get the name on there"
   ]
  },
  {
   "cell_type": "code",
   "execution_count": 836,
   "id": "e9233a26",
   "metadata": {},
   "outputs": [],
   "source": [
    "misc_batters[['first_name', 'last_name']] = misc_batters['Player'].str.split(' ', 1, expand=True)\n",
    "#Separating 'Player' column into two columns for first and last to match probable_pitchers df"
   ]
  },
  {
   "cell_type": "code",
   "execution_count": 837,
   "id": "86cdbd46",
   "metadata": {},
   "outputs": [],
   "source": [
    "misc_batters = misc_batters.drop(columns='Player')\n",
    "#We don't need this full name column anymore"
   ]
  },
  {
   "cell_type": "code",
   "execution_count": 838,
   "id": "3ab09980",
   "metadata": {},
   "outputs": [],
   "source": [
    "misc_batters = misc_batters[['last_name', 'first_name', 'Team']]\n",
    "#Reordering columns"
   ]
  },
  {
   "cell_type": "code",
   "execution_count": 839,
   "id": "399cc9fb",
   "metadata": {},
   "outputs": [
    {
     "data": {
      "text/html": [
       "<div>\n",
       "<style scoped>\n",
       "    .dataframe tbody tr th:only-of-type {\n",
       "        vertical-align: middle;\n",
       "    }\n",
       "\n",
       "    .dataframe tbody tr th {\n",
       "        vertical-align: top;\n",
       "    }\n",
       "\n",
       "    .dataframe thead th {\n",
       "        text-align: right;\n",
       "    }\n",
       "</style>\n",
       "<table border=\"1\" class=\"dataframe\">\n",
       "  <thead>\n",
       "    <tr style=\"text-align: right;\">\n",
       "      <th></th>\n",
       "      <th>first_name</th>\n",
       "      <th>last_name</th>\n",
       "    </tr>\n",
       "  </thead>\n",
       "  <tbody>\n",
       "    <tr>\n",
       "      <th>0</th>\n",
       "      <td>Yu</td>\n",
       "      <td>Darvish</td>\n",
       "    </tr>\n",
       "    <tr>\n",
       "      <th>1</th>\n",
       "      <td>Zach</td>\n",
       "      <td>Thompson</td>\n",
       "    </tr>\n",
       "    <tr>\n",
       "      <th>2</th>\n",
       "      <td>Matt</td>\n",
       "      <td>Brash</td>\n",
       "    </tr>\n",
       "    <tr>\n",
       "      <th>3</th>\n",
       "      <td>Elieser</td>\n",
       "      <td>Hernandez</td>\n",
       "    </tr>\n",
       "    <tr>\n",
       "      <th>4</th>\n",
       "      <td>Rich</td>\n",
       "      <td>Hill</td>\n",
       "    </tr>\n",
       "  </tbody>\n",
       "</table>\n",
       "</div>"
      ],
      "text/plain": [
       "  first_name  last_name\n",
       "0         Yu    Darvish\n",
       "1       Zach   Thompson\n",
       "2       Matt      Brash\n",
       "3    Elieser  Hernandez\n",
       "4       Rich       Hill"
      ]
     },
     "execution_count": 839,
     "metadata": {},
     "output_type": "execute_result"
    }
   ],
   "source": [
    "df_probable_pitchers.head()"
   ]
  },
  {
   "cell_type": "code",
   "execution_count": 843,
   "id": "f01b3690",
   "metadata": {},
   "outputs": [],
   "source": [
    "pitchers_df['first_name'] = pitchers_df['first_name'].str.strip()\n",
    "batters_df['first_name'] = batters_df['first_name'].str.strip()\n",
    "#Removing empty space in these column entries for example this makes ' Cabrera' => 'Cabrera'"
   ]
  },
  {
   "cell_type": "markdown",
   "id": "05a8cdc8",
   "metadata": {},
   "source": [
    "batters_df and pitchers_df front names all have a space in front of them and that's why merge is not working"
   ]
  },
  {
   "cell_type": "markdown",
   "id": "dca70cc0",
   "metadata": {},
   "source": [
    "# Attaching according Team Name to each player in all DFs"
   ]
  },
  {
   "cell_type": "markdown",
   "id": "c83351b8",
   "metadata": {},
   "source": [
    "The datasets on Baseball Savant do not include the team name with they players, so I will add them in"
   ]
  },
  {
   "cell_type": "code",
   "execution_count": 844,
   "id": "23d781ad",
   "metadata": {},
   "outputs": [],
   "source": [
    "df_probable_pitchers = pd.merge(df_probable_pitchers, misc_pitchers, on=['last_name', 'first_name'], how='inner')\n",
    "pitchers_df = pd.merge(pitchers_df, misc_pitchers, on=['last_name', 'first_name'], how='inner')\n",
    "batters_df = pd.merge(batters_df, misc_batters, on=['last_name', 'first_name'], how='inner')"
   ]
  },
  {
   "cell_type": "code",
   "execution_count": null,
   "id": "f7efa889",
   "metadata": {},
   "outputs": [],
   "source": []
  }
 ],
 "metadata": {
  "kernelspec": {
   "display_name": "Python 3 (ipykernel)",
   "language": "python",
   "name": "python3"
  },
  "language_info": {
   "codemirror_mode": {
    "name": "ipython",
    "version": 3
   },
   "file_extension": ".py",
   "mimetype": "text/x-python",
   "name": "python",
   "nbconvert_exporter": "python",
   "pygments_lexer": "ipython3",
   "version": "3.9.7"
  }
 },
 "nbformat": 4,
 "nbformat_minor": 5
}
