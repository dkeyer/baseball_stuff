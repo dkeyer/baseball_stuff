{
 "cells": [
  {
   "cell_type": "code",
   "execution_count": 1,
   "id": "dd20bb18",
   "metadata": {},
   "outputs": [],
   "source": [
    "import pandas as pd\n",
    "import numpy as np\n",
    "import seaborn as sns\n",
    "import matplotlib.pyplot as plt\n",
    "import requests\n",
    "from bs4 import BeautifulSoup\n",
    "from __future__ import print_function\n",
    "\n",
    "from datetime import date\n",
    "import datetime\n",
    "#imports"
   ]
  },
  {
   "cell_type": "code",
   "execution_count": 2,
   "id": "3df6db4b",
   "metadata": {},
   "outputs": [],
   "source": [
    "batters_df = pd.read_csv('../../data/individual_batting_stats.csv')\n",
    "pitchers_df = pd.read_csv('../../data/individual_pitching_stats.csv')"
   ]
  },
  {
   "cell_type": "code",
   "execution_count": 3,
   "id": "b9ff5cec",
   "metadata": {},
   "outputs": [
    {
     "data": {
      "text/plain": [
       "Index(['last_name', 'first_name', 'player_id', 'year', 'b_ab', 'b_total_pa',\n",
       "       'b_total_hits', 'b_strikeout', 'b_walk', 'b_k_percent', 'b_bb_percent',\n",
       "       'batting_avg', 'slg_percent', 'on_base_percent', 'xba', 'xslg', 'woba',\n",
       "       'xwoba', 'xobp', 'xiso', 'wobacon', 'xwobacon', 'bacon', 'xbacon',\n",
       "       'xbadiff', 'xslgdiff', 'wobadif', 'exit_velocity_avg',\n",
       "       'launch_angle_avg', 'barrel_batted_rate', 'meatball_swing_percent',\n",
       "       'meatball_percent', 'Unnamed: 32'],\n",
       "      dtype='object')"
      ]
     },
     "execution_count": 3,
     "metadata": {},
     "output_type": "execute_result"
    }
   ],
   "source": [
    "batters_df.columns"
   ]
  },
  {
   "cell_type": "code",
   "execution_count": null,
   "id": "2e2b79bb",
   "metadata": {},
   "outputs": [],
   "source": []
  }
 ],
 "metadata": {
  "kernelspec": {
   "display_name": "Python 3 (ipykernel)",
   "language": "python",
   "name": "python3"
  },
  "language_info": {
   "codemirror_mode": {
    "name": "ipython",
    "version": 3
   },
   "file_extension": ".py",
   "mimetype": "text/x-python",
   "name": "python",
   "nbconvert_exporter": "python",
   "pygments_lexer": "ipython3",
   "version": "3.9.7"
  }
 },
 "nbformat": 4,
 "nbformat_minor": 5
}
