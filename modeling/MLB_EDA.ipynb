{
 "cells": [
  {
   "cell_type": "code",
   "execution_count": 1,
   "id": "2a63750a",
   "metadata": {},
   "outputs": [],
   "source": [
    "import pandas as pd\n",
    "import numpy as np\n",
    "import seaborn as sns\n",
    "import matplotlib.pyplot as plt\n",
    "import requests\n",
    "from bs4 import BeautifulSoup\n",
    "from __future__ import print_function\n",
    "from pybaseball import statcast_batter\n",
    "\n",
    "from datetime import date\n",
    "import datetime\n",
    "#imports"
   ]
  },
  {
   "cell_type": "code",
   "execution_count": 2,
   "id": "cca6d777",
   "metadata": {},
   "outputs": [],
   "source": [
    "from pybaseball import statcast\n",
    "from pybaseball import batting_stats_range\n",
    "#Statcast specific imports"
   ]
  },
  {
   "cell_type": "markdown",
   "id": "fc68b62d",
   "metadata": {},
   "source": [
    "Batters from past 3 years URL"
   ]
  },
  {
   "cell_type": "markdown",
   "id": "81e34d3d",
   "metadata": {},
   "source": [
    "https://baseballsavant.mlb.com/leaderboard/custom?year=2022,2021,2020,2019&type=batter&filter=&sort=1&sortDir=asc&min=50&selections=b_ab,b_total_pa,b_total_hits,b_strikeout,b_walk,b_k_percent,b_bb_percent,batting_avg,slg_percent,on_base_percent,xba,xslg,woba,xwoba,xobp,xiso,wobacon,xwobacon,bacon,xbacon,xbadiff,xslgdiff,wobadif,exit_velocity_avg,launch_angle_avg,barrel_batted_rate,meatball_swing_percent,meatball_percent,&chart=false&x=xba&y=xba&r=no&chartType=beeswarm"
   ]
  },
  {
   "cell_type": "markdown",
   "id": "f59d6ceb",
   "metadata": {},
   "source": [
    "Pitchers From Last 3 Years URL"
   ]
  },
  {
   "cell_type": "markdown",
   "id": "7d82cb21",
   "metadata": {},
   "source": [
    "https://baseballsavant.mlb.com/leaderboard/custom?year=2022,2021,2020,2019&type=pitcher&filter=&sort=2&sortDir=asc&min=50&selections=p_total_pa,p_ab,p_total_hits,p_strikeout,p_walk,p_k_percent,p_bb_percent,batting_avg,slg_percent,on_base_percent,xba,xslg,woba,xwoba,xobp,xiso,wobacon,xwobacon,bacon,xbacon,xbadiff,xslgdiff,wobadif,exit_velocity_avg,launch_angle_avg,barrel_batted_rate,meatball_swing_percent,meatball_percent,&chart=false&x=xba&y=xba&r=no&chartType=beeswarm"
   ]
  },
  {
   "cell_type": "markdown",
   "id": "5e53a1e7",
   "metadata": {},
   "source": [
    "Could add up all of the ABs and then divide by their hits and see how much plus or minus they are this year"
   ]
  },
  {
   "cell_type": "code",
   "execution_count": null,
   "id": "8ed816f6",
   "metadata": {},
   "outputs": [],
   "source": []
  },
  {
   "cell_type": "code",
   "execution_count": null,
   "id": "3355e36d",
   "metadata": {},
   "outputs": [],
   "source": [
    "statcast."
   ]
  }
 ],
 "metadata": {
  "kernelspec": {
   "display_name": "Python 3 (ipykernel)",
   "language": "python",
   "name": "python3"
  },
  "language_info": {
   "codemirror_mode": {
    "name": "ipython",
    "version": 3
   },
   "file_extension": ".py",
   "mimetype": "text/x-python",
   "name": "python",
   "nbconvert_exporter": "python",
   "pygments_lexer": "ipython3",
   "version": "3.9.7"
  }
 },
 "nbformat": 4,
 "nbformat_minor": 5
}
