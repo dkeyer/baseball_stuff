{
 "cells": [
  {
   "cell_type": "code",
   "execution_count": 1,
   "id": "6128359f",
   "metadata": {},
   "outputs": [],
   "source": [
    "import pandas as pd\n",
    "import numpy as np\n",
    "import seaborn as sns\n",
    "import matplotlib.pyplot as plt\n",
    "import requests\n",
    "from bs4 import BeautifulSoup\n",
    "from __future__ import print_function\n",
    "\n",
    "\n",
    "import datetime"
   ]
  },
  {
   "cell_type": "code",
   "execution_count": null,
   "id": "e6bd0deb",
   "metadata": {},
   "outputs": [],
   "source": []
  },
  {
   "cell_type": "code",
   "execution_count": null,
   "id": "4da5c542",
   "metadata": {},
   "outputs": [],
   "source": [
    "url = 'https://www.mlb.com/probable-pitchers/2022-04-29'\n",
    "#URL of where I will get the pitchers' names"
   ]
  },
  {
   "cell_type": "code",
   "execution_count": null,
   "id": "b6a707bc",
   "metadata": {},
   "outputs": [],
   "source": [
    "res = requests.get(url)\n",
    "soup = BeautifulSoup(res.content)\n",
    "#Making request to the site and storing it in soup"
   ]
  },
  {
   "cell_type": "code",
   "execution_count": null,
   "id": "10cb7b6f",
   "metadata": {},
   "outputs": [],
   "source": [
    "pitchers = soup.find_all('a', {'class': 'probable-pitchers__pitcher-name-link'})\n",
    "probable_pitchers = []\n",
    "for i in pitchers:\n",
    "    probable_pitchers.append(str(i))\n",
    "#Finding all of the pitchers' names within that <a> tag\n",
    "#Using for loop to convert the beautiful soup elements in the list to strings so I can get only the pitcher's name from there"
   ]
  },
  {
   "cell_type": "code",
   "execution_count": null,
   "id": "3b61d55e",
   "metadata": {},
   "outputs": [],
   "source": [
    "probable_pitchers[0]"
   ]
  },
  {
   "cell_type": "code",
   "execution_count": null,
   "id": "34d12e6d",
   "metadata": {},
   "outputs": [],
   "source": [
    "probable_pitchers = [i.split('\">')[1] for i in probable_pitchers] \n",
    "#Getting only the pitchers' names"
   ]
  },
  {
   "cell_type": "code",
   "execution_count": null,
   "id": "9a25676a",
   "metadata": {},
   "outputs": [],
   "source": [
    "probable_pitchers = [i.split('</a')[0] for i in probable_pitchers] \n",
    "#Getting only the pitchers' names part 2"
   ]
  },
  {
   "cell_type": "code",
   "execution_count": null,
   "id": "fe92fea6",
   "metadata": {},
   "outputs": [],
   "source": [
    "probable_pitchers[0]"
   ]
  },
  {
   "cell_type": "code",
   "execution_count": null,
   "id": "54fbca44",
   "metadata": {},
   "outputs": [],
   "source": [
    "probable_pitchers = [i.split() for i in probable_pitchers]\n",
    "#Splitting name into first and last name columns"
   ]
  },
  {
   "cell_type": "code",
   "execution_count": null,
   "id": "71536a39",
   "metadata": {},
   "outputs": [],
   "source": [
    "df_probable_pitchers = pd.DataFrame(probable_pitchers)\n",
    "#Setting list as Pandas DF "
   ]
  },
  {
   "cell_type": "code",
   "execution_count": null,
   "id": "67dceca8",
   "metadata": {},
   "outputs": [],
   "source": [
    "df_probable_pitchers = df_probable_pitchers.rename(columns={0: \"first_name\", 1: \"last_name\"})\n",
    "#Renaming column"
   ]
  },
  {
   "cell_type": "code",
   "execution_count": null,
   "id": "3bff1a18",
   "metadata": {},
   "outputs": [],
   "source": []
  },
  {
   "cell_type": "code",
   "execution_count": null,
   "id": "b4516d30",
   "metadata": {},
   "outputs": [],
   "source": []
  }
 ],
 "metadata": {
  "kernelspec": {
   "display_name": "Python 3 (ipykernel)",
   "language": "python",
   "name": "python3"
  },
  "language_info": {
   "codemirror_mode": {
    "name": "ipython",
    "version": 3
   },
   "file_extension": ".py",
   "mimetype": "text/x-python",
   "name": "python",
   "nbconvert_exporter": "python",
   "pygments_lexer": "ipython3",
   "version": "3.9.7"
  }
 },
 "nbformat": 4,
 "nbformat_minor": 5
}
